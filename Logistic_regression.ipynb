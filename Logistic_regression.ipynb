{
 "cells": [
  {
   "cell_type": "markdown",
   "metadata": {},
   "source": [
    "# <font color='blue'> Regressão Logística</font>"
   ]
  },
  {
   "cell_type": "markdown",
   "metadata": {},
   "source": [
    "## Criando um dataset dummy"
   ]
  },
  {
   "cell_type": "code",
   "execution_count": 1,
   "metadata": {},
   "outputs": [],
   "source": [
    "import matplotlib.pyplot as plt\n",
    "from sklearn.datasets import make_classification\n",
    "import warnings\n",
    "warnings.filterwarnings(\"ignore\")\n",
    "%matplotlib inline"
   ]
  },
  {
   "cell_type": "code",
   "execution_count": 2,
   "metadata": {},
   "outputs": [
    {
     "data": {
      "image/png": "[encoded data removed]",
      "text/plain": [
       "<Figure size 432x288 with 1 Axes>"
      ]
     },
     "metadata": {},
     "output_type": "display_data"
    }
   ],
   "source": [
    "# Definindo x e y\n",
    "X, y = make_classification(n_samples = 100, n_features = 2, n_informative = 2,\n",
    "                           n_redundant = 0, n_clusters_per_class = 1, \n",
    "                           class_sep = 2.0, random_state = 101)\n",
    "\n",
    "plt.scatter(X[:, 0], X[:, 1], marker = 'o', c = y, linewidth = 0, edgecolor = None)\n",
    "plt.show()"
   ]
  },
  {
   "cell_type": "code",
   "execution_count": 3,
   "metadata": {},
   "outputs": [],
   "source": [
    "y_orig = [0,0,0,0,0,0,1,1,1,1]\n",
    "y_pred = [0,0,0,0,1,1,1,1,1,0]"
   ]
  },
  {
   "cell_type": "markdown",
   "metadata": {},
   "source": [
    "## Medindo a Performance do Classificador"
   ]
  },
  {
   "cell_type": "code",
   "execution_count": 4,
   "metadata": {},
   "outputs": [
    {
     "data": {
      "text/plain": [
       "array([[4, 2],\n",
       "       [1, 3]])"
      ]
     },
     "execution_count": 4,
     "metadata": {},
     "output_type": "execute_result"
    }
   ],
   "source": [
    "from sklearn.metrics import confusion_matrix\n",
    "confusion_matrix(y_orig, y_pred)"
   ]
  },
  {
   "cell_type": "code",
   "execution_count": 5,
   "metadata": {},
   "outputs": [
    {
     "data": {
      "image/png": "[encoded data removed]",
      "text/plain": [
       "<Figure size 288x288 with 2 Axes>"
      ]
     },
     "metadata": {},
     "output_type": "display_data"
    }
   ],
   "source": [
    "# Construindo a Confusion Matrix\n",
    "plt.matshow(confusion_matrix(y_orig, y_pred))\n",
    "plt.title('Confusion matrix')\n",
    "plt.colorbar()\n",
    "plt.ylabel('Valores Observados')\n",
    "plt.xlabel('Valores Previstos')\n",
    "plt.show()"
   ]
  },
  {
   "cell_type": "code",
   "execution_count": 6,
   "metadata": {},
   "outputs": [
    {
     "data": {
      "text/plain": [
       "0.7"
      ]
     },
     "execution_count": 6,
     "metadata": {},
     "output_type": "execute_result"
    }
   ],
   "source": [
    "# Score de Acurácia\n",
    "from sklearn.metrics import accuracy_score\n",
    "accuracy_score(y_orig, y_pred)"
   ]
  },
  {
   "cell_type": "code",
   "execution_count": 7,
   "metadata": {},
   "outputs": [
    {
     "data": {
      "text/plain": [
       "0.6"
      ]
     },
     "execution_count": 7,
     "metadata": {},
     "output_type": "execute_result"
    }
   ],
   "source": [
    "# Score de Precisão\n",
    "from sklearn.metrics import precision_score\n",
    "precision_score(y_orig, y_pred)"
   ]
  },
  {
   "cell_type": "code",
   "execution_count": 8,
   "metadata": {},
   "outputs": [
    {
     "data": {
      "text/plain": [
       "0.75"
      ]
     },
     "execution_count": 8,
     "metadata": {},
     "output_type": "execute_result"
    }
   ],
   "source": [
    "# Score de Recall\n",
    "from sklearn.metrics import recall_score\n",
    "recall_score(y_orig, y_pred)"
   ]
  },
  {
   "cell_type": "code",
   "execution_count": 9,
   "metadata": {},
   "outputs": [
    {
     "data": {
      "text/plain": [
       "0.6666666666666665"
      ]
     },
     "execution_count": 9,
     "metadata": {},
     "output_type": "execute_result"
    }
   ],
   "source": [
    "# F1 Score\n",
    "from sklearn.metrics import f1_score\n",
    "f1_score(y_orig, y_pred)"
   ]
  },
  {
   "cell_type": "code",
   "execution_count": 10,
   "metadata": {},
   "outputs": [
    {
     "name": "stdout",
     "output_type": "stream",
     "text": [
      "             precision    recall  f1-score   support\n",
      "\n",
      "          0       0.80      0.67      0.73         6\n",
      "          1       0.60      0.75      0.67         4\n",
      "\n",
      "avg / total       0.72      0.70      0.70        10\n",
      "\n"
     ]
    }
   ],
   "source": [
    "# Classification Report\n",
    "from sklearn.metrics import classification_report\n",
    "print(classification_report(y_orig, y_pred))"
   ]
  },
  {
   "cell_type": "markdown",
   "metadata": {},
   "source": [
    "## Usando o Classificador"
   ]
  },
  {
   "cell_type": "code",
   "execution_count": 11,
   "metadata": {},
   "outputs": [],
   "source": [
    "from sklearn.model_selection import train_test_split"
   ]
  },
  {
   "cell_type": "code",
   "execution_count": 12,
   "metadata": {},
   "outputs": [],
   "source": [
    "# Dividindo o dataset em treino e teste\n",
    "X_train, X_test, y_train, y_test = train_test_split(X, y.astype(float), test_size = 0.33, random_state = 101)"
   ]
  },
  {
   "cell_type": "code",
   "execution_count": 13,
   "metadata": {},
   "outputs": [
    {
     "data": {
      "text/plain": [
       "dtype('float64')"
      ]
     },
     "execution_count": 13,
     "metadata": {},
     "output_type": "execute_result"
    }
   ],
   "source": [
    "y_test.dtype"
   ]
  },
  {
   "cell_type": "code",
   "execution_count": 14,
   "metadata": {},
   "outputs": [
    {
     "data": {
      "text/plain": [
       "array([0., 1., 1., 0., 0., 1., 0., 1., 1., 1., 0., 1., 1., 0., 0., 0., 1.,\n",
       "       0., 1., 0., 0., 0., 1., 1., 1., 1., 1., 1., 0., 1., 0., 1., 0.])"
      ]
     },
     "execution_count": 14,
     "metadata": {},
     "output_type": "execute_result"
    }
   ],
   "source": [
    "y_test"
   ]
  },
  {
   "cell_type": "code",
   "execution_count": 15,
   "metadata": {},
   "outputs": [],
   "source": [
    "from sklearn.linear_model import LinearRegression"
   ]
  },
  {
   "cell_type": "code",
   "execution_count": 16,
   "metadata": {},
   "outputs": [
    {
     "data": {
      "text/plain": [
       "array([-0.19021825,  1.14481132,  1.16345687,  0.00906543,  0.17492642,\n",
       "        0.75010591,  0.01764075,  0.69408067,  0.99490823,  0.98471815,\n",
       "        0.01184894,  0.91408215,  0.77985749,  0.66302112,  0.04339816,\n",
       "        0.19057929,  1.19126856,  0.01473595,  0.80911677, -0.03827048,\n",
       "       -0.08450995, -0.22769924,  0.57176711,  0.75836004,  1.02104676,\n",
       "        1.06148483,  0.873505  ,  1.04779876, -0.1655144 ,  0.66570701,\n",
       "       -0.01700988,  1.03270133,  0.00856569])"
      ]
     },
     "execution_count": 16,
     "metadata": {},
     "output_type": "execute_result"
    }
   ],
   "source": [
    "# Criando o modelo e fazendo as previsões\n",
    "modelo = LinearRegression()\n",
    "modelo.fit(X_train, y_train)\n",
    "modelo.predict(X_test)"
   ]
  },
  {
   "cell_type": "markdown",
   "metadata": {},
   "source": [
    "## A função sigmoid (logit)"
   ]
  },
  {
   "cell_type": "code",
   "execution_count": 17,
   "metadata": {},
   "outputs": [],
   "source": [
    "import numpy as np"
   ]
  },
  {
   "cell_type": "code",
   "execution_count": 18,
   "metadata": {},
   "outputs": [
    {
     "data": {
      "image/png": "[encoded data removed]",
      "text/plain": [
       "<Figure size 432x288 with 1 Axes>"
      ]
     },
     "metadata": {},
     "output_type": "display_data"
    }
   ],
   "source": [
    "def model(x):\n",
    "    return 1 / (1 + np.exp(-x))\n",
    "\n",
    "X_vals = np.linspace(-10, 10, 1000)\n",
    "plt.plot(X_vals, model(X_vals), color = 'blue', linewidth = 3)\n",
    "plt.ylabel('sigma(t)')\n",
    "plt.xlabel('t')\n",
    "\n",
    "plt.show()"
   ]
  },
  {
   "cell_type": "markdown",
   "metadata": {},
   "source": [
    "## Classificação e Fronteiras de Decisão"
   ]
  },
  {
   "cell_type": "code",
   "execution_count": 19,
   "metadata": {},
   "outputs": [],
   "source": [
    "from sklearn.linear_model import LogisticRegression"
   ]
  },
  {
   "cell_type": "code",
   "execution_count": 20,
   "metadata": {},
   "outputs": [
    {
     "name": "stdout",
     "output_type": "stream",
     "text": [
      "             precision    recall  f1-score   support\n",
      "\n",
      "        0.0       1.00      0.93      0.97        15\n",
      "        1.0       0.95      1.00      0.97        18\n",
      "\n",
      "avg / total       0.97      0.97      0.97        33\n",
      "\n"
     ]
    }
   ],
   "source": [
    "# Modelo de regressão logística\n",
    "clf = LogisticRegression()\n",
    "clf.fit(X_train, y_train.astype(int))\n",
    "y_clf = clf.predict(X_test)\n",
    "\n",
    "print(classification_report(y_test, y_clf))"
   ]
  },
  {
   "cell_type": "code",
   "execution_count": 21,
   "metadata": {},
   "outputs": [
    {
     "data": {
      "image/png": "[encoded data removed]",
      "text/plain": [
       "<Figure size 432x288 with 1 Axes>"
      ]
     },
     "metadata": {},
     "output_type": "display_data"
    }
   ],
   "source": [
    "# Plot da fornteira de decisão\n",
    "\n",
    "h = .02  # step size in the mesh\n",
    "\n",
    "x_min, x_max = X[:, 0].min() - .5, X[:, 0].max() + .5\n",
    "y_min, y_max = X[:, 1].min() - .5, X[:, 1].max() + .5\n",
    "xx, yy = np.meshgrid(np.arange(x_min, x_max, h), np.arange(y_min, y_max, h))\n",
    "Z = clf.predict(np.c_[xx.ravel(), yy.ravel()])\n",
    "\n",
    "Z = Z.reshape(xx.shape)\n",
    "plt.pcolormesh(xx, yy, Z, cmap=plt.cm.autumn)\n",
    "\n",
    "plt.scatter(X[:, 0], X[:, 1], c = y, edgecolors = 'k', linewidth = 0, cmap = plt.cm.Paired)\n",
    "\n",
    "plt.xlim(xx.min(), xx.max())\n",
    "plt.ylim(yy.min(), yy.max())\n",
    "plt.xticks(())\n",
    "plt.yticks(())\n",
    "\n",
    "plt.show()"
   ]
  },
  {
   "cell_type": "code",
   "execution_count": 22,
   "metadata": {},
   "outputs": [
    {
     "data": {
      "image/png": "[encoded data removed]",
      "text/plain": [
       "<Figure size 432x288 with 1 Axes>"
      ]
     },
     "metadata": {},
     "output_type": "display_data"
    }
   ],
   "source": [
    "Z = clf.predict_proba(np.c_[xx.ravel(), yy.ravel()])[:,1]\n",
    "Z = Z.reshape(xx.shape)\n",
    "plt.pcolormesh(xx, yy, Z, cmap=plt.cm.autumn)\n",
    "\n",
    "### ALTERANDO AXES(). NAO É MAIS UTILIZADO\n",
    "#ax = plt.axes()\n",
    "plt.arrow(0, 0, clf.coef_[0][0], clf.coef_[0][1], head_width = 0.5, head_length = 0.5, fc = 'k', ec = 'k')\n",
    "plt.scatter(0, 0, marker='o', c='k')\n",
    "\n",
    "plt.xlim(xx.min(), xx.max())\n",
    "plt.ylim(yy.min(), yy.max())\n",
    "\n",
    "plt.show()"
   ]
  },
  {
   "cell_type": "code",
   "execution_count": 23,
   "metadata": {},
   "outputs": [
    {
     "data": {
      "text/plain": [
       "array([[ 0.11591199, -2.16308329]])"
      ]
     },
     "execution_count": 23,
     "metadata": {},
     "output_type": "execute_result"
    }
   ],
   "source": [
    "clf.coef_"
   ]
  },
  {
   "cell_type": "code",
   "execution_count": 24,
   "metadata": {},
   "outputs": [
    {
     "name": "stdout",
     "output_type": "stream",
     "text": [
      "243 µs ± 1.77 µs per loop (mean ± std. dev. of 7 runs, 1000 loops each)\n"
     ]
    }
   ],
   "source": [
    "%timeit clf.fit(X, y)"
   ]
  },
  {
   "cell_type": "code",
   "execution_count": 25,
   "metadata": {},
   "outputs": [
    {
     "name": "stdout",
     "output_type": "stream",
     "text": [
      "23.2 µs ± 178 ns per loop (mean ± std. dev. of 7 runs, 10000 loops each)\n"
     ]
    }
   ],
   "source": [
    "%timeit clf.predict(X)"
   ]
  },
  {
   "cell_type": "code",
   "execution_count": 26,
   "metadata": {},
   "outputs": [
    {
     "name": "stdout",
     "output_type": "stream",
     "text": [
      "37.9 µs ± 190 ns per loop (mean ± std. dev. of 7 runs, 10000 loops each)\n"
     ]
    }
   ],
   "source": [
    "%timeit clf.predict_proba(X)"
   ]
  },
  {
   "cell_type": "code",
   "execution_count": 27,
   "metadata": {},
   "outputs": [],
   "source": [
    "# Clean all previous variables\n",
    "%reset -f"
   ]
  },
  {
   "cell_type": "markdown",
   "metadata": {},
   "source": [
    "## Regressão Logística Multiclass"
   ]
  },
  {
   "cell_type": "code",
   "execution_count": 28,
   "metadata": {},
   "outputs": [],
   "source": [
    "import matplotlib.pyplot as plt\n",
    "from sklearn.datasets import make_classification\n",
    "from sklearn.model_selection import train_test_split\n",
    "from sklearn.linear_model import LogisticRegression\n",
    "%matplotlib inline"
   ]
  },
  {
   "cell_type": "code",
   "execution_count": 29,
   "metadata": {},
   "outputs": [
    {
     "data": {
      "image/png": "[encoded data removed]",
      "text/plain": [
       "<Figure size 432x288 with 1 Axes>"
      ]
     },
     "metadata": {},
     "output_type": "display_data"
    }
   ],
   "source": [
    "# Gerando os dados\n",
    "X, y = make_classification(n_samples=200, n_features=2, \n",
    "                           n_classes=3, n_informative=2,\n",
    "                           n_redundant=0, n_clusters_per_class=1, \n",
    "                           class_sep = 2.0, random_state=101)\n",
    "\n",
    "plt.scatter(X[:, 0], X[:, 1], marker='o', c=y, linewidth=0, edgecolor=None)\n",
    "plt.show()"
   ]
  },
  {
   "cell_type": "code",
   "execution_count": 30,
   "metadata": {},
   "outputs": [],
   "source": [
    "# Dados de Treino e de teste\n",
    "X_train, X_test, y_train, y_test = train_test_split(X, y.astype(float), test_size = 0.33, random_state = 101)"
   ]
  },
  {
   "cell_type": "code",
   "execution_count": 31,
   "metadata": {},
   "outputs": [],
   "source": [
    "# Gerando o modelo\n",
    "clf = LogisticRegression()\n",
    "clf.fit(X_train, y_train.astype(int))\n",
    "y_clf = clf.predict(X_test)"
   ]
  },
  {
   "cell_type": "code",
   "execution_count": 32,
   "metadata": {},
   "outputs": [
    {
     "name": "stdout",
     "output_type": "stream",
     "text": [
      "             precision    recall  f1-score   support\n",
      "\n",
      "        0.0       1.00      1.00      1.00        24\n",
      "        1.0       1.00      1.00      1.00        22\n",
      "        2.0       1.00      1.00      1.00        20\n",
      "\n",
      "avg / total       1.00      1.00      1.00        66\n",
      "\n"
     ]
    }
   ],
   "source": [
    "from sklearn.metrics import classification_report\n",
    "print(classification_report(y_test, y_clf))"
   ]
  },
  {
   "cell_type": "code",
   "execution_count": 33,
   "metadata": {},
   "outputs": [
    {
     "data": {
      "image/png": "[encoded data removed]",
      "text/plain": [
       "<Figure size 432x288 with 1 Axes>"
      ]
     },
     "metadata": {},
     "output_type": "display_data"
    }
   ],
   "source": [
    "import numpy as np\n",
    "\n",
    "h = .02  # step size in the mesh\n",
    "\n",
    "x_min, x_max = X[:, 0].min() - .5, X[:, 0].max() + .5\n",
    "y_min, y_max = X[:, 1].min() - .5, X[:, 1].max() + .5\n",
    "xx, yy = np.meshgrid(np.arange(x_min, x_max, h), np.arange(y_min, y_max, h))\n",
    "Z = clf.predict(np.c_[xx.ravel(), yy.ravel()])\n",
    "\n",
    "# Put the result into a color plot\n",
    "Z = Z.reshape(xx.shape)\n",
    "plt.pcolormesh(xx, yy, Z, cmap=plt.cm.autumn)\n",
    "\n",
    "# Plot also the training points\n",
    "plt.scatter(X[:, 0], X[:, 1], c=y, edgecolors='k', cmap=plt.cm.Paired)\n",
    "plt.xlim(xx.min(), xx.max())\n",
    "plt.ylim(yy.min(), yy.max())\n",
    "plt.xticks(())\n",
    "plt.yticks(())\n",
    "\n",
    "plt.show()"
   ]
  },
  {
   "cell_type": "code",
   "execution_count": 34,
   "metadata": {},
   "outputs": [
    {
     "name": "stdout",
     "output_type": "stream",
     "text": [
      "[-3.26744968  1.19639333]\n",
      "0.0\n",
      "0\n"
     ]
    }
   ],
   "source": [
    "print(X_test[0])\n",
    "print(y_test[0])\n",
    "print(y_clf[0])"
   ]
  },
  {
   "cell_type": "code",
   "execution_count": 35,
   "metadata": {},
   "outputs": [
    {
     "data": {
      "text/plain": [
       "array([[6.78845297e-01, 3.20483077e-01, 6.71626375e-04]])"
      ]
     },
     "execution_count": 35,
     "metadata": {},
     "output_type": "execute_result"
    }
   ],
   "source": [
    "clf.predict_proba(X_test[0].reshape(1, -1))"
   ]
  },
  {
   "cell_type": "code",
   "execution_count": 36,
   "metadata": {},
   "outputs": [
    {
     "data": {
      "text/plain": [
       "array([[ 1.74860367, -0.39662288, -7.07803427]])"
      ]
     },
     "execution_count": 36,
     "metadata": {},
     "output_type": "execute_result"
    }
   ],
   "source": [
    "clf.decision_function(X_test[0].reshape(1, -1))"
   ]
  },
  {
   "cell_type": "markdown",
   "metadata": {},
   "source": [
    "## Usando o StatsModels"
   ]
  },
  {
   "cell_type": "code",
   "execution_count": 37,
   "metadata": {},
   "outputs": [],
   "source": [
    "import statsmodels.api as sm\n",
    "import statsmodels.formula.api as smf\n",
    "import pandas as pd"
   ]
  },
  {
   "cell_type": "code",
   "execution_count": 38,
   "metadata": {},
   "outputs": [],
   "source": [
    "X, y = make_classification(n_samples = 10000, n_features = 10, n_informative = 10, n_redundant = 0, random_state = 101)"
   ]
  },
  {
   "cell_type": "code",
   "execution_count": 39,
   "metadata": {},
   "outputs": [
    {
     "name": "stdout",
     "output_type": "stream",
     "text": [
      "Optimization terminated successfully.\n",
      "         Current function value: 0.438685\n",
      "         Iterations 7\n"
     ]
    }
   ],
   "source": [
    "Xc = sm.add_constant(X)\n",
    "logistic_regression = sm.Logit(y,Xc)\n",
    "fitted_model = logistic_regression.fit()"
   ]
  },
  {
   "cell_type": "code",
   "execution_count": 40,
   "metadata": {
    "scrolled": false
   },
   "outputs": [
    {
     "data": {
      "text/html": [
       "<table class=\"simpletable\">\n",
       "<tr>\n",
       "        <td>Model:</td>              <td>Logit</td>      <td>Pseudo R-squared:</td>   <td>0.367</td>  \n",
       "</tr>\n",
       "<tr>\n",
       "  <td>Dependent Variable:</td>         <td>y</td>              <td>AIC:</td>        <td>8795.6903</td>\n",
       "</tr>\n",
       "<tr>\n",
       "         <td>Date:</td>        <td>2018-07-24 20:30</td>       <td>BIC:</td>        <td>8875.0040</td>\n",
       "</tr>\n",
       "<tr>\n",
       "   <td>No. Observations:</td>        <td>10000</td>       <td>Log-Likelihood:</td>   <td>-4386.8</td> \n",
       "</tr>\n",
       "<tr>\n",
       "       <td>Df Model:</td>             <td>10</td>            <td>LL-Null:</td>       <td>-6931.5</td> \n",
       "</tr>\n",
       "<tr>\n",
       "     <td>Df Residuals:</td>          <td>9989</td>         <td>LLR p-value:</td>     <td>0.0000</td>  \n",
       "</tr>\n",
       "<tr>\n",
       "      <td>Converged:</td>           <td>1.0000</td>           <td>Scale:</td>        <td>1.0000</td>  \n",
       "</tr>\n",
       "<tr>\n",
       "    <td>No. Iterations:</td>        <td>7.0000</td>              <td></td>              <td></td>     \n",
       "</tr>\n",
       "</table>\n",
       "<table class=\"simpletable\">\n",
       "<tr>\n",
       "    <td></td>     <th>Coef.</th>  <th>Std.Err.</th>     <th>z</th>     <th>P>|z|</th> <th>[0.025</th>  <th>0.975]</th> \n",
       "</tr>\n",
       "<tr>\n",
       "  <th>const</th> <td>0.4299</td>   <td>0.0390</td>   <td>11.0229</td> <td>0.0000</td> <td>0.3535</td>  <td>0.5064</td> \n",
       "</tr>\n",
       "<tr>\n",
       "  <th>x1</th>    <td>0.0671</td>   <td>0.0152</td>   <td>4.4096</td>  <td>0.0000</td> <td>0.0373</td>  <td>0.0969</td> \n",
       "</tr>\n",
       "<tr>\n",
       "  <th>x2</th>    <td>-0.7828</td>  <td>0.0187</td>  <td>-41.9472</td> <td>0.0000</td> <td>-0.8194</td> <td>-0.7462</td>\n",
       "</tr>\n",
       "<tr>\n",
       "  <th>x3</th>    <td>0.1221</td>   <td>0.0156</td>   <td>7.8145</td>  <td>0.0000</td> <td>0.0915</td>  <td>0.1527</td> \n",
       "</tr>\n",
       "<tr>\n",
       "  <th>x4</th>    <td>0.2841</td>   <td>0.0157</td>   <td>18.1501</td> <td>0.0000</td> <td>0.2534</td>  <td>0.3148</td> \n",
       "</tr>\n",
       "<tr>\n",
       "  <th>x5</th>    <td>0.1469</td>   <td>0.0143</td>   <td>10.2832</td> <td>0.0000</td> <td>0.1189</td>  <td>0.1749</td> \n",
       "</tr>\n",
       "<tr>\n",
       "  <th>x6</th>    <td>-0.3414</td>  <td>0.0194</td>  <td>-17.6365</td> <td>0.0000</td> <td>-0.3794</td> <td>-0.3035</td>\n",
       "</tr>\n",
       "<tr>\n",
       "  <th>x7</th>    <td>0.0503</td>   <td>0.0145</td>   <td>3.4815</td>  <td>0.0005</td> <td>0.0220</td>  <td>0.0786</td> \n",
       "</tr>\n",
       "<tr>\n",
       "  <th>x8</th>    <td>-0.1393</td>  <td>0.0144</td>   <td>-9.6419</td> <td>0.0000</td> <td>-0.1676</td> <td>-0.1110</td>\n",
       "</tr>\n",
       "<tr>\n",
       "  <th>x9</th>    <td>0.1127</td>   <td>0.0142</td>   <td>7.9311</td>  <td>0.0000</td> <td>0.0848</td>  <td>0.1405</td> \n",
       "</tr>\n",
       "<tr>\n",
       "  <th>x10</th>   <td>-0.4792</td>  <td>0.0175</td>  <td>-27.3397</td> <td>0.0000</td> <td>-0.5135</td> <td>-0.4448</td>\n",
       "</tr>\n",
       "</table>"
      ],
      "text/plain": [
       "<class 'statsmodels.iolib.summary2.Summary'>\n",
       "\"\"\"\n",
       "                         Results: Logit\n",
       "================================================================\n",
       "Model:              Logit            Pseudo R-squared: 0.367    \n",
       "Dependent Variable: y                AIC:              8795.6903\n",
       "Date:               2018-07-24 20:30 BIC:              8875.0040\n",
       "No. Observations:   10000            Log-Likelihood:   -4386.8  \n",
       "Df Model:           10               LL-Null:          -6931.5  \n",
       "Df Residuals:       9989             LLR p-value:      0.0000   \n",
       "Converged:          1.0000           Scale:            1.0000   \n",
       "No. Iterations:     7.0000                                      \n",
       "------------------------------------------------------------------\n",
       "         Coef.    Std.Err.      z       P>|z|     [0.025    0.975]\n",
       "------------------------------------------------------------------\n",
       "const    0.4299     0.0390    11.0229   0.0000    0.3535    0.5064\n",
       "x1       0.0671     0.0152     4.4096   0.0000    0.0373    0.0969\n",
       "x2      -0.7828     0.0187   -41.9472   0.0000   -0.8194   -0.7462\n",
       "x3       0.1221     0.0156     7.8145   0.0000    0.0915    0.1527\n",
       "x4       0.2841     0.0157    18.1501   0.0000    0.2534    0.3148\n",
       "x5       0.1469     0.0143    10.2832   0.0000    0.1189    0.1749\n",
       "x6      -0.3414     0.0194   -17.6365   0.0000   -0.3794   -0.3035\n",
       "x7       0.0503     0.0145     3.4815   0.0005    0.0220    0.0786\n",
       "x8      -0.1393     0.0144    -9.6419   0.0000   -0.1676   -0.1110\n",
       "x9       0.1127     0.0142     7.9311   0.0000    0.0848    0.1405\n",
       "x10     -0.4792     0.0175   -27.3397   0.0000   -0.5135   -0.4448\n",
       "================================================================\n",
       "\n",
       "\"\"\""
      ]
     },
     "execution_count": 40,
     "metadata": {},
     "output_type": "execute_result"
    }
   ],
   "source": [
    "### ALTERANDO summary. O summary NÃO ESTÁ FUNCIONANDO MAIS\n",
    "fitted_model.summary2()"
   ]
  },
  {
   "cell_type": "code",
   "execution_count": 41,
   "metadata": {},
   "outputs": [
    {
     "name": "stdout",
     "output_type": "stream",
     "text": [
      "Optimization terminated successfully.\n",
      "         Current function value: 0.438685\n",
      "         Iterations 7\n"
     ]
    },
    {
     "data": {
      "text/html": [
       "<table class=\"simpletable\">\n",
       "<tr>\n",
       "        <td>Model:</td>              <td>Logit</td>      <td>Pseudo R-squared:</td>   <td>0.367</td>  \n",
       "</tr>\n",
       "<tr>\n",
       "  <td>Dependent Variable:</td>     <td>response</td>           <td>AIC:</td>        <td>8795.6903</td>\n",
       "</tr>\n",
       "<tr>\n",
       "         <td>Date:</td>        <td>2018-07-24 20:30</td>       <td>BIC:</td>        <td>8875.0040</td>\n",
       "</tr>\n",
       "<tr>\n",
       "   <td>No. Observations:</td>        <td>10000</td>       <td>Log-Likelihood:</td>   <td>-4386.8</td> \n",
       "</tr>\n",
       "<tr>\n",
       "       <td>Df Model:</td>             <td>10</td>            <td>LL-Null:</td>       <td>-6931.5</td> \n",
       "</tr>\n",
       "<tr>\n",
       "     <td>Df Residuals:</td>          <td>9989</td>         <td>LLR p-value:</td>     <td>0.0000</td>  \n",
       "</tr>\n",
       "<tr>\n",
       "      <td>Converged:</td>           <td>1.0000</td>           <td>Scale:</td>        <td>1.0000</td>  \n",
       "</tr>\n",
       "<tr>\n",
       "    <td>No. Iterations:</td>        <td>7.0000</td>              <td></td>              <td></td>     \n",
       "</tr>\n",
       "</table>\n",
       "<table class=\"simpletable\">\n",
       "<tr>\n",
       "      <td></td>       <th>Coef.</th>  <th>Std.Err.</th>     <th>z</th>     <th>P>|z|</th> <th>[0.025</th>  <th>0.975]</th> \n",
       "</tr>\n",
       "<tr>\n",
       "  <th>Intercept</th> <td>0.4299</td>   <td>0.0390</td>   <td>11.0229</td> <td>0.0000</td> <td>0.3535</td>  <td>0.5064</td> \n",
       "</tr>\n",
       "<tr>\n",
       "  <th>VAR1</th>      <td>0.0671</td>   <td>0.0152</td>   <td>4.4096</td>  <td>0.0000</td> <td>0.0373</td>  <td>0.0969</td> \n",
       "</tr>\n",
       "<tr>\n",
       "  <th>VAR2</th>      <td>-0.7828</td>  <td>0.0187</td>  <td>-41.9472</td> <td>0.0000</td> <td>-0.8194</td> <td>-0.7462</td>\n",
       "</tr>\n",
       "<tr>\n",
       "  <th>VAR3</th>      <td>0.1221</td>   <td>0.0156</td>   <td>7.8145</td>  <td>0.0000</td> <td>0.0915</td>  <td>0.1527</td> \n",
       "</tr>\n",
       "<tr>\n",
       "  <th>VAR4</th>      <td>0.2841</td>   <td>0.0157</td>   <td>18.1501</td> <td>0.0000</td> <td>0.2534</td>  <td>0.3148</td> \n",
       "</tr>\n",
       "<tr>\n",
       "  <th>VAR5</th>      <td>0.1469</td>   <td>0.0143</td>   <td>10.2832</td> <td>0.0000</td> <td>0.1189</td>  <td>0.1749</td> \n",
       "</tr>\n",
       "<tr>\n",
       "  <th>VAR6</th>      <td>-0.3414</td>  <td>0.0194</td>  <td>-17.6365</td> <td>0.0000</td> <td>-0.3794</td> <td>-0.3035</td>\n",
       "</tr>\n",
       "<tr>\n",
       "  <th>VAR7</th>      <td>0.0503</td>   <td>0.0145</td>   <td>3.4815</td>  <td>0.0005</td> <td>0.0220</td>  <td>0.0786</td> \n",
       "</tr>\n",
       "<tr>\n",
       "  <th>VAR8</th>      <td>-0.1393</td>  <td>0.0144</td>   <td>-9.6419</td> <td>0.0000</td> <td>-0.1676</td> <td>-0.1110</td>\n",
       "</tr>\n",
       "<tr>\n",
       "  <th>VAR9</th>      <td>0.1127</td>   <td>0.0142</td>   <td>7.9311</td>  <td>0.0000</td> <td>0.0848</td>  <td>0.1405</td> \n",
       "</tr>\n",
       "<tr>\n",
       "  <th>VAR10</th>     <td>-0.4792</td>  <td>0.0175</td>  <td>-27.3397</td> <td>0.0000</td> <td>-0.5135</td> <td>-0.4448</td>\n",
       "</tr>\n",
       "</table>"
      ],
      "text/plain": [
       "<class 'statsmodels.iolib.summary2.Summary'>\n",
       "\"\"\"\n",
       "                         Results: Logit\n",
       "================================================================\n",
       "Model:              Logit            Pseudo R-squared: 0.367    \n",
       "Dependent Variable: response         AIC:              8795.6903\n",
       "Date:               2018-07-24 20:30 BIC:              8875.0040\n",
       "No. Observations:   10000            Log-Likelihood:   -4386.8  \n",
       "Df Model:           10               LL-Null:          -6931.5  \n",
       "Df Residuals:       9989             LLR p-value:      0.0000   \n",
       "Converged:          1.0000           Scale:            1.0000   \n",
       "No. Iterations:     7.0000                                      \n",
       "-----------------------------------------------------------------\n",
       "             Coef.   Std.Err.     z      P>|z|    [0.025   0.975]\n",
       "-----------------------------------------------------------------\n",
       "Intercept    0.4299    0.0390   11.0229  0.0000   0.3535   0.5064\n",
       "VAR1         0.0671    0.0152    4.4096  0.0000   0.0373   0.0969\n",
       "VAR2        -0.7828    0.0187  -41.9472  0.0000  -0.8194  -0.7462\n",
       "VAR3         0.1221    0.0156    7.8145  0.0000   0.0915   0.1527\n",
       "VAR4         0.2841    0.0157   18.1501  0.0000   0.2534   0.3148\n",
       "VAR5         0.1469    0.0143   10.2832  0.0000   0.1189   0.1749\n",
       "VAR6        -0.3414    0.0194  -17.6365  0.0000  -0.3794  -0.3035\n",
       "VAR7         0.0503    0.0145    3.4815  0.0005   0.0220   0.0786\n",
       "VAR8        -0.1393    0.0144   -9.6419  0.0000  -0.1676  -0.1110\n",
       "VAR9         0.1127    0.0142    7.9311  0.0000   0.0848   0.1405\n",
       "VAR10       -0.4792    0.0175  -27.3397  0.0000  -0.5135  -0.4448\n",
       "================================================================\n",
       "\n",
       "\"\"\""
      ]
     },
     "execution_count": 41,
     "metadata": {},
     "output_type": "execute_result"
    }
   ],
   "source": [
    "Xd = pd.DataFrame(X)\n",
    "Xd.columns = ['VAR'+str(i+1) for i in range(10)]\n",
    "Xd['response'] = y\n",
    "\n",
    "logistic_regression = smf.logit(\n",
    "    formula = 'response ~ VAR1+ VAR2 + VAR3 + VAR4 + \\\n",
    "               VAR5 + VAR6 + VAR7 + VAR8 + VAR9 + VAR10',\n",
    "               data=Xd)\n",
    "\n",
    "fitted_model = logistic_regression.fit()\n",
    "fitted_model.summary2()"
   ]
  },
  {
   "cell_type": "markdown",
   "metadata": {},
   "source": [
    "## Gradiente Descendente"
   ]
  },
  {
   "cell_type": "code",
   "execution_count": 42,
   "metadata": {},
   "outputs": [],
   "source": [
    "from sklearn.preprocessing import StandardScaler\n",
    "import numpy as np"
   ]
  },
  {
   "cell_type": "code",
   "execution_count": 43,
   "metadata": {},
   "outputs": [],
   "source": [
    "observations = len(X)\n",
    "variables = ['VAR'+str(i+1) for i in range(10)]"
   ]
  },
  {
   "cell_type": "code",
   "execution_count": 44,
   "metadata": {},
   "outputs": [],
   "source": [
    "import random\n",
    "\n",
    "def random_w( p ):\n",
    "    return np.array([np.random.normal() for j in range(p)])\n",
    "\n",
    "def sigmoid(X,w):\n",
    "    return 1./(1.+np.exp(-np.dot(X,w)))\n",
    "\n",
    "def hypothesis(X,w):\n",
    "    return np.dot(X,w)\n",
    "\n",
    "def loss(X,w,y):\n",
    "    return hypothesis(X,w) - y\n",
    "\n",
    "def logit_loss(X,w,y):\n",
    "    return sigmoid(X,w) - y\n",
    "\n",
    "def squared_loss(X,w,y):\n",
    "    return loss(X,w,y)**2\n",
    "\n",
    "def gradient(X,w,y,loss_type=squared_loss):\n",
    "    gradients = list()\n",
    "    n = float(len( y ))\n",
    "    for j in range(len(w)):\n",
    "        gradients.append(np.sum(loss_type(X,w,y) * X[:,j]) / n)\n",
    "    return gradients\n",
    "\n",
    "def update(X,w,y, alpha=0.01, loss_type=squared_loss):\n",
    "    return [t - alpha*g for t, g in zip(w, gradient(X,w,y,loss_type))]\n",
    "\n",
    "def optimize(X,y, alpha=0.01, eta = 10**-12, loss_type=squared_loss, iterations = 1000):\n",
    "    standardization = StandardScaler()\n",
    "    Xst = standardization.fit_transform(X)\n",
    "    original_means, originanal_stds = standardization.mean_, standardization.scale_\n",
    "    Xst = np.column_stack((Xst,np.ones(observations)))\n",
    "    w = random_w(Xst.shape[1])\n",
    "    path = list()\n",
    "    for k in range(iterations):\n",
    "        SSL = np.sum(squared_loss(Xst,w,y))\n",
    "        new_w = update(Xst,w,y, alpha=alpha, loss_type=logit_loss)\n",
    "        new_SSL = np.sum(squared_loss(Xst,new_w,y))\n",
    "        w = new_w\n",
    "        if k>=5 and (new_SSL - SSL <= eta and new_SSL - SSL >= -eta):\n",
    "            path.append(new_SSL)\n",
    "            break\n",
    "        if k % (iterations / 20) == 0:\n",
    "            path.append(new_SSL)\n",
    "    unstandardized_betas = w[:-1] / originanal_stds\n",
    "    unstandardized_bias  = w[-1]-np.sum((original_means / originanal_stds) * w[:-1])\n",
    "    return np.insert(unstandardized_betas, 0, unstandardized_bias), path, k\n",
    "                                "
   ]
  },
  {
   "cell_type": "code",
   "execution_count": 45,
   "metadata": {},
   "outputs": [
    {
     "name": "stdout",
     "output_type": "stream",
     "text": [
      "Coeficientes finais padronizados: [ 0.42991407  0.0670771  -0.78279578  0.12208733  0.28410285  0.14689341\n",
      " -0.34143436  0.05031078 -0.1393206   0.11267402 -0.47916908]\n",
      "Número de iterações até atingir o ponto ideal de otimização 897 \n"
     ]
    }
   ],
   "source": [
    "alpha = 0.5\n",
    "w, path, iterations = optimize(X, y, alpha, eta = 10**-5, loss_type=logit_loss, iterations = 100000)\n",
    "print (\"Coeficientes finais padronizados: %s\" % w)\n",
    "print (\"Número de iterações até atingir o ponto ideal de otimização %i \" % (iterations + 1))"
   ]
  },
  {
   "cell_type": "markdown",
   "metadata": {},
   "source": [
    "## Implementação com Scikit-Learn"
   ]
  },
  {
   "cell_type": "code",
   "execution_count": 46,
   "metadata": {},
   "outputs": [],
   "source": [
    "from sklearn.linear_model import LogisticRegression"
   ]
  },
  {
   "cell_type": "code",
   "execution_count": 47,
   "metadata": {},
   "outputs": [
    {
     "data": {
      "text/plain": [
       "LogisticRegression(C=10000.0, class_weight=None, dual=False,\n",
       "          fit_intercept=True, intercept_scaling=1, max_iter=100,\n",
       "          multi_class='ovr', n_jobs=1, penalty='l2', random_state=101,\n",
       "          solver='liblinear', tol=1e-25, verbose=0, warm_start=False)"
      ]
     },
     "execution_count": 47,
     "metadata": {},
     "output_type": "execute_result"
    }
   ],
   "source": [
    "# Construindo o modelo\n",
    "# C = Inverso da força de regularização. Deve ser um número floar positivo\n",
    "# tol = Tolerância do critério de parada.\n",
    "clf = LogisticRegression(C = 1E4, tol = 1E-25, random_state = 101)\n",
    "clf.fit(X,y)"
   ]
  },
  {
   "cell_type": "code",
   "execution_count": 48,
   "metadata": {},
   "outputs": [
    {
     "data": {
      "text/plain": [
       "[0.42991394845314157,\n",
       " 0.06707709687470954,\n",
       " -0.7827957661488678,\n",
       " 0.12208730826867432,\n",
       " 0.2841028369319033,\n",
       " 0.14689340914475532,\n",
       " -0.3414343424518862,\n",
       " 0.05031075649256034,\n",
       " -0.13932059152314755,\n",
       " 0.1126740217378131,\n",
       " -0.47916904027905616]"
      ]
     },
     "execution_count": 48,
     "metadata": {},
     "output_type": "execute_result"
    }
   ],
   "source": [
    "coeffs = [clf.intercept_[0]]\n",
    "coeffs.extend(clf.coef_[0])\n",
    "coeffs"
   ]
  },
  {
   "cell_type": "code",
   "execution_count": 49,
   "metadata": {},
   "outputs": [
    {
     "data": {
      "text/plain": [
       "SGDClassifier(alpha=0.0001, average=False, class_weight=None, epsilon=0.1,\n",
       "       eta0=0.0, fit_intercept=True, l1_ratio=0.15,\n",
       "       learning_rate='optimal', loss='log', max_iter=100.0, n_iter=None,\n",
       "       n_jobs=1, penalty='l2', power_t=0.5, random_state=101, shuffle=True,\n",
       "       tol=None, verbose=0, warm_start=False)"
      ]
     },
     "execution_count": 49,
     "metadata": {},
     "output_type": "execute_result"
    }
   ],
   "source": [
    "from sklearn.linear_model import SGDClassifier\n",
    "# alpha = Constante que multiplica os termos de regularização.\n",
    "# n_iter = número de passadas nos dados de treinamento'.\n",
    "clf = SGDClassifier(loss = 'log', alpha = 1E-4, max_iter=1E2, random_state = 101)\n",
    "clf.fit(X,y)"
   ]
  },
  {
   "cell_type": "code",
   "execution_count": 50,
   "metadata": {},
   "outputs": [
    {
     "data": {
      "text/plain": [
       "[0.42571117875899567,\n",
       " 0.09275466398617539,\n",
       " -0.7838137886954415,\n",
       " 0.09370874582250945,\n",
       " 0.1675646650527122,\n",
       " 0.1059652720945873,\n",
       " -0.4109157815801866,\n",
       " 0.06221983248994038,\n",
       " -0.19435965629236057,\n",
       " 0.23531208244782134,\n",
       " -0.4879377845504208]"
      ]
     },
     "execution_count": 50,
     "metadata": {},
     "output_type": "execute_result"
    }
   ],
   "source": [
    "coeffs = [clf.intercept_[0]]\n",
    "coeffs.extend(clf.coef_[0])\n",
    "coeffs"
   ]
  }
 ],
 "metadata": {
  "kernelspec": {
   "display_name": "Python 3",
   "language": "python",
   "name": "python3"
  },
  "language_info": {
   "codemirror_mode": {
    "name": "ipython",
    "version": 3
   },
   "file_extension": ".py",
   "mimetype": "text/x-python",
   "name": "python",
   "nbconvert_exporter": "python",
   "pygments_lexer": "ipython3",
   "version": "3.8.3"
  }
 },
 "nbformat": 4,
 "nbformat_minor": 1
}
